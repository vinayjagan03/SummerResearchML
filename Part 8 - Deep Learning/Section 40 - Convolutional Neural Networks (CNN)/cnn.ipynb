{
 "cells": [
  {
   "cell_type": "code",
   "execution_count": 27,
   "metadata": {},
   "outputs": [],
   "source": [
    "# Convolutional Neural Network\n",
    "\n",
    "# Part 1 - Building the CNN\n",
    "\n",
    "# Importing the Keras libraries and packages\n",
    "from keras.models import Sequential\n",
    "from keras.layers import Convolution2D\n",
    "from keras.layers import MaxPooling2D\n",
    "from keras.layers import Flatten\n",
    "from keras.layers import Dense"
   ]
  },
  {
   "cell_type": "code",
   "execution_count": 28,
   "metadata": {},
   "outputs": [],
   "source": [
    "# Initializing the CNN\n",
    "classifier = Sequential()"
   ]
  },
  {
   "cell_type": "code",
   "execution_count": 29,
   "metadata": {},
   "outputs": [
    {
     "name": "stderr",
     "output_type": "stream",
     "text": [
      "/anaconda3/lib/python3.7/site-packages/ipykernel_launcher.py:2: UserWarning: Update your `Conv2D` call to the Keras 2 API: `Conv2D(32, (3, 3), input_shape=(64, 64, 3..., activation=\"relu\")`\n",
      "  \n"
     ]
    }
   ],
   "source": [
    "# Step 1 - Convolution\n",
    "classifier.add(Convolution2D(32, 3, 3, input_shape = (64, 64, 3), activation = 'relu'))"
   ]
  },
  {
   "cell_type": "code",
   "execution_count": 30,
   "metadata": {},
   "outputs": [
    {
     "name": "stderr",
     "output_type": "stream",
     "text": [
      "/anaconda3/lib/python3.7/site-packages/ipykernel_launcher.py:5: UserWarning: Update your `Conv2D` call to the Keras 2 API: `Conv2D(32, (3, 3), activation=\"relu\")`\n",
      "  \"\"\"\n"
     ]
    }
   ],
   "source": [
    "# Step 2 - Pooling\n",
    "classifier.add(MaxPooling2D(pool_size = (2, 2)))\n",
    "\n",
    "# Adding a second convolutional layer\n",
    "classifier.add(Convolution2D(32, 3, 3, activation = 'relu'))\n",
    "classifier.add(MaxPooling2D(pool_size = (2, 2)))"
   ]
  },
  {
   "cell_type": "code",
   "execution_count": 31,
   "metadata": {},
   "outputs": [],
   "source": [
    "# Step 3 - Flattening\n",
    "classifier.add(Flatten())"
   ]
  },
  {
   "cell_type": "code",
   "execution_count": 32,
   "metadata": {},
   "outputs": [
    {
     "name": "stderr",
     "output_type": "stream",
     "text": [
      "/anaconda3/lib/python3.7/site-packages/ipykernel_launcher.py:2: UserWarning: Update your `Dense` call to the Keras 2 API: `Dense(activation=\"relu\", units=128)`\n",
      "  \n",
      "/anaconda3/lib/python3.7/site-packages/ipykernel_launcher.py:3: UserWarning: Update your `Dense` call to the Keras 2 API: `Dense(activation=\"sigmoid\", units=1)`\n",
      "  This is separate from the ipykernel package so we can avoid doing imports until\n"
     ]
    }
   ],
   "source": [
    "# Step 4 - Full connection\n",
    "classifier.add(Dense(output_dim = 128, activation = 'relu'))\n",
    "classifier.add(Dense(output_dim = 1, activation = 'sigmoid'))"
   ]
  },
  {
   "cell_type": "code",
   "execution_count": 33,
   "metadata": {},
   "outputs": [],
   "source": [
    "# Compiling the CNN\n",
    "classifier.compile(optimizer = 'adam', loss = 'binary_crossentropy', metrics = ['accuracy'])"
   ]
  },
  {
   "cell_type": "code",
   "execution_count": null,
   "metadata": {},
   "outputs": [
    {
     "name": "stdout",
     "output_type": "stream",
     "text": [
      "Found 8000 images belonging to 2 classes.\n",
      "Found 2000 images belonging to 2 classes.\n",
      "Epoch 1/25\n",
      "250/250 [==============================] - 43s 171ms/step - loss: 0.6639 - acc: 0.5950 - val_loss: 0.6272 - val_acc: 0.6735\n",
      "Epoch 2/25\n",
      "250/250 [==============================] - 42s 167ms/step - loss: 0.5845 - acc: 0.6944 - val_loss: 0.5344 - val_acc: 0.7340\n",
      "Epoch 3/25\n",
      "250/250 [==============================] - 41s 166ms/step - loss: 0.5439 - acc: 0.7221 - val_loss: 0.5198 - val_acc: 0.7455\n",
      "Epoch 4/25\n",
      "250/250 [==============================] - 42s 166ms/step - loss: 0.5122 - acc: 0.7435 - val_loss: 0.4917 - val_acc: 0.7675\n",
      "Epoch 5/25\n",
      "250/250 [==============================] - 42s 167ms/step - loss: 0.4896 - acc: 0.7619 - val_loss: 0.4898 - val_acc: 0.7730\n",
      "Epoch 6/25\n",
      "250/250 [==============================] - 42s 167ms/step - loss: 0.4694 - acc: 0.7726 - val_loss: 0.4740 - val_acc: 0.7705\n",
      "Epoch 7/25\n",
      "250/250 [==============================] - 44s 177ms/step - loss: 0.4436 - acc: 0.7893 - val_loss: 0.4682 - val_acc: 0.7755\n",
      "Epoch 8/25\n",
      "250/250 [==============================] - 45s 180ms/step - loss: 0.4381 - acc: 0.7943 - val_loss: 0.4658 - val_acc: 0.7785\n",
      "Epoch 9/25\n",
      "250/250 [==============================] - 47s 189ms/step - loss: 0.4259 - acc: 0.8006 - val_loss: 0.4686 - val_acc: 0.7875\n",
      "Epoch 10/25\n",
      "250/250 [==============================] - 45s 182ms/step - loss: 0.4140 - acc: 0.8071 - val_loss: 0.4969 - val_acc: 0.7640\n",
      "Epoch 11/25\n",
      "250/250 [==============================] - 45s 178ms/step - loss: 0.3989 - acc: 0.8214 - val_loss: 0.5430 - val_acc: 0.7645\n",
      "Epoch 12/25\n",
      "250/250 [==============================] - 44s 176ms/step - loss: 0.3827 - acc: 0.8236 - val_loss: 0.4639 - val_acc: 0.7960\n",
      "Epoch 13/25\n",
      "250/250 [==============================] - 44s 177ms/step - loss: 0.3737 - acc: 0.8313 - val_loss: 0.4607 - val_acc: 0.7980\n",
      "Epoch 14/25\n",
      "250/250 [==============================] - 45s 178ms/step - loss: 0.3623 - acc: 0.8401 - val_loss: 0.4897 - val_acc: 0.7825\n",
      "Epoch 15/25\n",
      "250/250 [==============================] - 45s 179ms/step - loss: 0.3558 - acc: 0.8377 - val_loss: 0.4859 - val_acc: 0.7925\n",
      "Epoch 16/25\n",
      "217/250 [=========================>....] - ETA: 5s - loss: 0.3331 - acc: 0.8567"
     ]
    }
   ],
   "source": [
    "# Part 2 - Fitting the CNN to the images\n",
    "from keras.preprocessing.image import ImageDataGenerator\n",
    "\n",
    "train_datagen = ImageDataGenerator(rescale = 1./255, shear_range = 0.2, zoom_range = 0.2, horizontal_flip = True)\n",
    "test_datagen = ImageDataGenerator(rescale = 1./255)\n",
    "\n",
    "training_set = train_datagen.flow_from_directory('dataset/training_set', target_size = (64, 64), batch_size = 32, class_mode = 'binary')\n",
    "test_set = test_datagen.flow_from_directory('dataset/test_set', target_size = (64, 64), batch_size = 32, class_mode = 'binary')\n",
    "\n",
    "classifier.fit_generator(training_set, steps_per_epoch = 250, epochs = 25, validation_data = test_set, validation_steps = 2000 / 32)"
   ]
  },
  {
   "cell_type": "code",
   "execution_count": null,
   "metadata": {},
   "outputs": [],
   "source": []
  },
  {
   "cell_type": "code",
   "execution_count": null,
   "metadata": {},
   "outputs": [],
   "source": []
  }
 ],
 "metadata": {
  "kernelspec": {
   "display_name": "Python 3",
   "language": "python",
   "name": "python3"
  },
  "language_info": {
   "codemirror_mode": {
    "name": "ipython",
    "version": 3
   },
   "file_extension": ".py",
   "mimetype": "text/x-python",
   "name": "python",
   "nbconvert_exporter": "python",
   "pygments_lexer": "ipython3",
   "version": "3.7.3"
  }
 },
 "nbformat": 4,
 "nbformat_minor": 2
}
